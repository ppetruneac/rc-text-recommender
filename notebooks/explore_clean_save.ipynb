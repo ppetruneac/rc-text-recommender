{
 "cells": [
  {
   "cell_type": "markdown",
   "metadata": {},
   "source": [
    "# RC Text Recommender Data Exploration\n",
    "Author: ppetruneac <br>\n",
    "\n",
    "This notebook \n",
    "- explores the original data, \n",
    "- makes assumptions as what data / resources to keep\n",
    "\n",
    "\n"
   ]
  },
  {
   "cell_type": "code",
   "execution_count": 1,
   "metadata": {
    "ExecuteTime": {
     "end_time": "2019-02-12T21:31:07.256450Z",
     "start_time": "2019-02-12T21:31:06.030408Z"
    }
   },
   "outputs": [],
   "source": [
    "import pandas as pd\n",
    "import re, string, warnings\n",
    "\n",
    "from sklearn.feature_extraction.text import TfidfVectorizer\n",
    "from sklearn.decomposition import NMF\n",
    "from sklearn.preprocessing import Normalizer, MaxAbsScaler\n",
    "from sklearn.pipeline import make_pipeline"
   ]
  },
  {
   "cell_type": "markdown",
   "metadata": {},
   "source": [
    "## Read\n",
    "\n",
    "Sterg date care au NA in title, content sau in type. "
   ]
  },
  {
   "cell_type": "code",
   "execution_count": 14,
   "metadata": {
    "ExecuteTime": {
     "end_time": "2019-02-10T12:08:09.775457Z",
     "start_time": "2019-02-10T12:08:07.938781Z"
    },
    "code_folding": [],
    "scrolled": true
   },
   "outputs": [
    {
     "name": "stdout",
     "output_type": "stream",
     "text": [
      "shape = (85183, 4)\n"
     ]
    },
    {
     "data": {
      "text/html": [
       "<div>\n",
       "<style scoped>\n",
       "    .dataframe tbody tr th:only-of-type {\n",
       "        vertical-align: middle;\n",
       "    }\n",
       "\n",
       "    .dataframe tbody tr th {\n",
       "        vertical-align: top;\n",
       "    }\n",
       "\n",
       "    .dataframe thead th {\n",
       "        text-align: right;\n",
       "    }\n",
       "</style>\n",
       "<table border=\"1\" class=\"dataframe\">\n",
       "  <thead>\n",
       "    <tr style=\"text-align: right;\">\n",
       "      <th></th>\n",
       "      <th>id</th>\n",
       "      <th>title</th>\n",
       "      <th>type</th>\n",
       "      <th>content</th>\n",
       "    </tr>\n",
       "  </thead>\n",
       "  <tbody>\n",
       "    <tr>\n",
       "      <th>0</th>\n",
       "      <td>1</td>\n",
       "      <td>Întrucât atârnă de voi</td>\n",
       "      <td>1</td>\n",
       "      <td>VERSE 1:\\r\\nb\\t\\t    F#\\r\\nÎntrucât atârnă de ...</td>\n",
       "    </tr>\n",
       "    <tr>\n",
       "      <th>1</th>\n",
       "      <td>2</td>\n",
       "      <td>God will make a way</td>\n",
       "      <td>1</td>\n",
       "      <td>D\\r\\nGod will make a way\\r\\n   ...</td>\n",
       "    </tr>\n",
       "    <tr>\n",
       "      <th>2</th>\n",
       "      <td>3</td>\n",
       "      <td>King of Glory</td>\n",
       "      <td>1</td>\n",
       "      <td>E                     B\\r\\nWho is this King o...</td>\n",
       "    </tr>\n",
       "    <tr>\n",
       "      <th>3</th>\n",
       "      <td>4</td>\n",
       "      <td>Curgi ca un râu de slavă</td>\n",
       "      <td>1</td>\n",
       "      <td>E\\r\\n     Curgi ca un râu de slavă\\r\\n  ...</td>\n",
       "    </tr>\n",
       "    <tr>\n",
       "      <th>4</th>\n",
       "      <td>5</td>\n",
       "      <td>Inima mea tânjește</td>\n",
       "      <td>1</td>\n",
       "      <td>C     F            C            G\\r\\nInima mea...</td>\n",
       "    </tr>\n",
       "  </tbody>\n",
       "</table>\n",
       "</div>"
      ],
      "text/plain": [
       "   id                     title  type  \\\n",
       "0   1    Întrucât atârnă de voi     1   \n",
       "1   2       God will make a way     1   \n",
       "2   3             King of Glory     1   \n",
       "3   4  Curgi ca un râu de slavă     1   \n",
       "4   5        Inima mea tânjește     1   \n",
       "\n",
       "                                             content  \n",
       "0  VERSE 1:\\r\\nb\\t\\t    F#\\r\\nÎntrucât atârnă de ...  \n",
       "1                 D\\r\\nGod will make a way\\r\\n   ...  \n",
       "2   E                     B\\r\\nWho is this King o...  \n",
       "3        E\\r\\n     Curgi ca un râu de slavă\\r\\n  ...  \n",
       "4  C     F            C            G\\r\\nInima mea...  "
      ]
     },
     "metadata": {},
     "output_type": "display_data"
    }
   ],
   "source": [
    "import pandas as pd\n",
    "df = pd.read_csv('../data/sample/tilda_separated.csv', delimiter='~')\n",
    "\n",
    "# Strip the missing values. \n",
    "df = df[(~df.title.isna()) & (~df.content.isna()) & (~df.type.isna())]\n",
    "\n",
    "print(\"shape = {}\".format(df.shape))\n",
    "display(df.head())\n"
   ]
  },
  {
   "cell_type": "markdown",
   "metadata": {},
   "source": [
    "## Add datetime"
   ]
  },
  {
   "cell_type": "code",
   "execution_count": 3,
   "metadata": {
    "ExecuteTime": {
     "end_time": "2019-02-12T21:31:29.885885Z",
     "start_time": "2019-02-12T21:31:29.838549Z"
    }
   },
   "outputs": [
    {
     "data": {
      "text/html": [
       "<div>\n",
       "<style scoped>\n",
       "    .dataframe tbody tr th:only-of-type {\n",
       "        vertical-align: middle;\n",
       "    }\n",
       "\n",
       "    .dataframe tbody tr th {\n",
       "        vertical-align: top;\n",
       "    }\n",
       "\n",
       "    .dataframe thead th {\n",
       "        text-align: right;\n",
       "    }\n",
       "</style>\n",
       "<table border=\"1\" class=\"dataframe\">\n",
       "  <thead>\n",
       "    <tr style=\"text-align: right;\">\n",
       "      <th></th>\n",
       "      <th>id</th>\n",
       "      <th>title</th>\n",
       "      <th>type</th>\n",
       "      <th>content</th>\n",
       "    </tr>\n",
       "  </thead>\n",
       "  <tbody>\n",
       "    <tr>\n",
       "      <th>0</th>\n",
       "      <td>72714</td>\n",
       "      <td>boboteaza</td>\n",
       "      <td>7</td>\n",
       "      <td>boboteaza iordanul martorul t cut sl vea prin ...</td>\n",
       "    </tr>\n",
       "    <tr>\n",
       "      <th>1</th>\n",
       "      <td>160304</td>\n",
       "      <td>in lumini de primavara</td>\n",
       "      <td>7</td>\n",
       "      <td>in lumini de primavara se nnoiesc vesminte pes...</td>\n",
       "    </tr>\n",
       "    <tr>\n",
       "      <th>2</th>\n",
       "      <td>128808</td>\n",
       "      <td>indemn pentru credinciosi</td>\n",
       "      <td>5</td>\n",
       "      <td>ndemn pentru credinciosi ospetele se fac pentr...</td>\n",
       "    </tr>\n",
       "    <tr>\n",
       "      <th>3</th>\n",
       "      <td>1481</td>\n",
       "      <td>ma intreb</td>\n",
       "      <td>2</td>\n",
       "      <td>ma intreb doamne tata cum am existat in lume f...</td>\n",
       "    </tr>\n",
       "    <tr>\n",
       "      <th>4</th>\n",
       "      <td>131290</td>\n",
       "      <td>barierele din calea ta nu le poti muta singur,...</td>\n",
       "      <td>6</td>\n",
       "      <td>barierele din calea ta nu le poti muta singur ...</td>\n",
       "    </tr>\n",
       "  </tbody>\n",
       "</table>\n",
       "</div>"
      ],
      "text/plain": [
       "       id                                              title  type  \\\n",
       "0   72714                                          boboteaza     7   \n",
       "1  160304                             in lumini de primavara     7   \n",
       "2  128808                          indemn pentru credinciosi     5   \n",
       "3    1481                                          ma intreb     2   \n",
       "4  131290  barierele din calea ta nu le poti muta singur,...     6   \n",
       "\n",
       "                                             content  \n",
       "0  boboteaza iordanul martorul t cut sl vea prin ...  \n",
       "1  in lumini de primavara se nnoiesc vesminte pes...  \n",
       "2  ndemn pentru credinciosi ospetele se fac pentr...  \n",
       "3  ma intreb doamne tata cum am existat in lume f...  \n",
       "4  barierele din calea ta nu le poti muta singur ...  "
      ]
     },
     "execution_count": 3,
     "metadata": {},
     "output_type": "execute_result"
    }
   ],
   "source": [
    "df = pd.read_csv(filepath_or_buffer='../data/sample/tilda_separated_filter_clean.csv')\n",
    "df.head()"
   ]
  },
  {
   "cell_type": "code",
   "execution_count": 6,
   "metadata": {
    "ExecuteTime": {
     "end_time": "2019-02-12T21:32:37.025640Z",
     "start_time": "2019-02-12T21:32:36.960000Z"
    }
   },
   "outputs": [
    {
     "data": {
      "text/html": [
       "<div>\n",
       "<style scoped>\n",
       "    .dataframe tbody tr th:only-of-type {\n",
       "        vertical-align: middle;\n",
       "    }\n",
       "\n",
       "    .dataframe tbody tr th {\n",
       "        vertical-align: top;\n",
       "    }\n",
       "\n",
       "    .dataframe thead th {\n",
       "        text-align: right;\n",
       "    }\n",
       "</style>\n",
       "<table border=\"1\" class=\"dataframe\">\n",
       "  <thead>\n",
       "    <tr style=\"text-align: right;\">\n",
       "      <th></th>\n",
       "      <th>id</th>\n",
       "      <th>title</th>\n",
       "      <th>type</th>\n",
       "      <th>content</th>\n",
       "      <th>datetime</th>\n",
       "    </tr>\n",
       "  </thead>\n",
       "  <tbody>\n",
       "    <tr>\n",
       "      <th>0</th>\n",
       "      <td>72714</td>\n",
       "      <td>boboteaza</td>\n",
       "      <td>7</td>\n",
       "      <td>boboteaza iordanul martorul t cut sl vea prin ...</td>\n",
       "      <td>2018-07-21 19:09:32.945341</td>\n",
       "    </tr>\n",
       "    <tr>\n",
       "      <th>1</th>\n",
       "      <td>160304</td>\n",
       "      <td>in lumini de primavara</td>\n",
       "      <td>7</td>\n",
       "      <td>in lumini de primavara se nnoiesc vesminte pes...</td>\n",
       "      <td>2017-01-21 20:44:51.991324</td>\n",
       "    </tr>\n",
       "    <tr>\n",
       "      <th>2</th>\n",
       "      <td>128808</td>\n",
       "      <td>indemn pentru credinciosi</td>\n",
       "      <td>5</td>\n",
       "      <td>ndemn pentru credinciosi ospetele se fac pentr...</td>\n",
       "      <td>2018-09-09 18:17:21.350718</td>\n",
       "    </tr>\n",
       "    <tr>\n",
       "      <th>3</th>\n",
       "      <td>1481</td>\n",
       "      <td>ma intreb</td>\n",
       "      <td>2</td>\n",
       "      <td>ma intreb doamne tata cum am existat in lume f...</td>\n",
       "      <td>2017-01-02 11:23:22.443332</td>\n",
       "    </tr>\n",
       "    <tr>\n",
       "      <th>4</th>\n",
       "      <td>131290</td>\n",
       "      <td>barierele din calea ta nu le poti muta singur,...</td>\n",
       "      <td>6</td>\n",
       "      <td>barierele din calea ta nu le poti muta singur ...</td>\n",
       "      <td>2017-10-31 10:44:45.013566</td>\n",
       "    </tr>\n",
       "  </tbody>\n",
       "</table>\n",
       "</div>"
      ],
      "text/plain": [
       "       id                                              title  type  \\\n",
       "0   72714                                          boboteaza     7   \n",
       "1  160304                             in lumini de primavara     7   \n",
       "2  128808                          indemn pentru credinciosi     5   \n",
       "3    1481                                          ma intreb     2   \n",
       "4  131290  barierele din calea ta nu le poti muta singur,...     6   \n",
       "\n",
       "                                             content  \\\n",
       "0  boboteaza iordanul martorul t cut sl vea prin ...   \n",
       "1  in lumini de primavara se nnoiesc vesminte pes...   \n",
       "2  ndemn pentru credinciosi ospetele se fac pentr...   \n",
       "3  ma intreb doamne tata cum am existat in lume f...   \n",
       "4  barierele din calea ta nu le poti muta singur ...   \n",
       "\n",
       "                    datetime  \n",
       "0 2018-07-21 19:09:32.945341  \n",
       "1 2017-01-21 20:44:51.991324  \n",
       "2 2018-09-09 18:17:21.350718  \n",
       "3 2017-01-02 11:23:22.443332  \n",
       "4 2017-10-31 10:44:45.013566  "
      ]
     },
     "metadata": {},
     "output_type": "display_data"
    }
   ],
   "source": [
    "# Add a random date to the original data\n",
    "import random\n",
    "from datetime import datetime, timedelta\n",
    "\n",
    "min_year=2017\n",
    "max_year=datetime.now().year\n",
    "\n",
    "start = datetime(min_year, 1, 1, 00, 00, 00)\n",
    "years = max_year - min_year + 1\n",
    "# end = start + timedelta(days=180 * years)\n",
    "end = datetime.today()\n",
    "\n",
    "random_date = []\n",
    "for i in range(df.shape[0]):\n",
    "    random_date.append(start + (end - start) * random.random())\n",
    "    \n",
    "df['datetime'] = random_date\n",
    "display(df.head())\n",
    "\n",
    "df.to_csv(path_or_buf='../data/sample/tilda_separated_filter_clean.csv', header=True, index=False)"
   ]
  },
  {
   "cell_type": "markdown",
   "metadata": {},
   "source": [
    "## Data Exploration\n",
    "\n",
    "> **Numarul resurselor si media lungimii textului pe tipul de resursa**\n",
    "\n",
    "Urmatorele tipuri de resurse nu sunt de tip text, de accea se vor exclude. \n",
    "\n",
    "- 15 - par sa fie partituri\n",
    "- 17, 18, 20, 22, 30, 31 - par sa fie resurse audio (? si/sau video)\n",
    "- 29, 40, 48 - resurse video (e.g. marturii)\n",
    "- 35 - nu stiu ce fel de resursa este\n",
    "- 1 este sceneta; doar una singura cu o lungime foarte mare, de aceea va fi exclusa."
   ]
  },
  {
   "cell_type": "code",
   "execution_count": 16,
   "metadata": {
    "ExecuteTime": {
     "end_time": "2019-02-10T12:08:09.962681Z",
     "start_time": "2019-02-10T12:08:09.937700Z"
    },
    "scrolled": false
   },
   "outputs": [
    {
     "data": {
      "text/plain": [
       "type\n",
       "1      2640\n",
       "2     11877\n",
       "3      5476\n",
       "4       527\n",
       "5      4100\n",
       "6     13366\n",
       "7     42201\n",
       "8       955\n",
       "9       813\n",
       "10     1751\n",
       "11       14\n",
       "37       46\n",
       "39      119\n",
       "42       65\n",
       "43      314\n",
       "45       56\n",
       "46      787\n",
       "47       75\n",
       "Name: content, dtype: int64"
      ]
     },
     "execution_count": 16,
     "metadata": {},
     "output_type": "execute_result"
    }
   ],
   "source": [
    "# resource_type_name = ['acorduri', 'cantece', 'devotionale', 'editoriale', 'eseuri', 'maxime', 'poezii', 'schite', 'studii',\n",
    "#                 'predici', 'carti', 'scenete', 'partituri', '17', '18', '20', '22', '29', '30', '31', '35', \n",
    "#                  'Jocuri','lectia zilnica', '40', 'biografii', 'marturii', 'programe crestine', 'cugetari', \n",
    "#                 'dezbateri', '48']\n",
    "\n",
    "resource_type2remove = [15,17,18,20,22,30,31,29,40,48,35,12]\n",
    "df = df.loc[~df.type.isin(resource_type2remove)]\n",
    "df.groupby('type')['content'].count()\n"
   ]
  },
  {
   "cell_type": "markdown",
   "metadata": {},
   "source": [
    "## Write"
   ]
  },
  {
   "cell_type": "code",
   "execution_count": 17,
   "metadata": {
    "ExecuteTime": {
     "end_time": "2019-02-10T12:08:15.985618Z",
     "start_time": "2019-02-10T12:08:09.964779Z"
    }
   },
   "outputs": [
    {
     "name": "stdout",
     "output_type": "stream",
     "text": [
      "(85182, 5)\n"
     ]
    },
    {
     "data": {
      "text/html": [
       "<div>\n",
       "<style scoped>\n",
       "    .dataframe tbody tr th:only-of-type {\n",
       "        vertical-align: middle;\n",
       "    }\n",
       "\n",
       "    .dataframe tbody tr th {\n",
       "        vertical-align: top;\n",
       "    }\n",
       "\n",
       "    .dataframe thead th {\n",
       "        text-align: right;\n",
       "    }\n",
       "</style>\n",
       "<table border=\"1\" class=\"dataframe\">\n",
       "  <thead>\n",
       "    <tr style=\"text-align: right;\">\n",
       "      <th></th>\n",
       "      <th>id</th>\n",
       "      <th>title</th>\n",
       "      <th>type</th>\n",
       "      <th>content</th>\n",
       "      <th>datetime</th>\n",
       "    </tr>\n",
       "  </thead>\n",
       "  <tbody>\n",
       "    <tr>\n",
       "      <th>0</th>\n",
       "      <td>1</td>\n",
       "      <td>Întrucât atârnă de voi</td>\n",
       "      <td>1</td>\n",
       "      <td>VERSE 1:\\r\\nb\\t\\t    F#\\r\\nÎntrucât atârnă de ...</td>\n",
       "      <td>2018-10-30 17:56:43.820838</td>\n",
       "    </tr>\n",
       "    <tr>\n",
       "      <th>1</th>\n",
       "      <td>2</td>\n",
       "      <td>God will make a way</td>\n",
       "      <td>1</td>\n",
       "      <td>D\\r\\nGod will make a way\\r\\n   ...</td>\n",
       "      <td>2019-01-16 17:02:17.204537</td>\n",
       "    </tr>\n",
       "    <tr>\n",
       "      <th>2</th>\n",
       "      <td>3</td>\n",
       "      <td>King of Glory</td>\n",
       "      <td>1</td>\n",
       "      <td>E                     B\\r\\nWho is this King o...</td>\n",
       "      <td>2018-06-04 02:36:54.428884</td>\n",
       "    </tr>\n",
       "    <tr>\n",
       "      <th>3</th>\n",
       "      <td>4</td>\n",
       "      <td>Curgi ca un râu de slavă</td>\n",
       "      <td>1</td>\n",
       "      <td>E\\r\\n     Curgi ca un râu de slavă\\r\\n  ...</td>\n",
       "      <td>2018-03-04 02:23:32.413976</td>\n",
       "    </tr>\n",
       "    <tr>\n",
       "      <th>4</th>\n",
       "      <td>5</td>\n",
       "      <td>Inima mea tânjește</td>\n",
       "      <td>1</td>\n",
       "      <td>C     F            C            G\\r\\nInima mea...</td>\n",
       "      <td>2017-01-24 22:52:51.879640</td>\n",
       "    </tr>\n",
       "  </tbody>\n",
       "</table>\n",
       "</div>"
      ],
      "text/plain": [
       "   id                     title  type  \\\n",
       "0   1    Întrucât atârnă de voi     1   \n",
       "1   2       God will make a way     1   \n",
       "2   3             King of Glory     1   \n",
       "3   4  Curgi ca un râu de slavă     1   \n",
       "4   5        Inima mea tânjește     1   \n",
       "\n",
       "                                             content  \\\n",
       "0  VERSE 1:\\r\\nb\\t\\t    F#\\r\\nÎntrucât atârnă de ...   \n",
       "1                 D\\r\\nGod will make a way\\r\\n   ...   \n",
       "2   E                     B\\r\\nWho is this King o...   \n",
       "3        E\\r\\n     Curgi ca un râu de slavă\\r\\n  ...   \n",
       "4  C     F            C            G\\r\\nInima mea...   \n",
       "\n",
       "                     datetime  \n",
       "0  2018-10-30 17:56:43.820838  \n",
       "1  2019-01-16 17:02:17.204537  \n",
       "2  2018-06-04 02:36:54.428884  \n",
       "3  2018-03-04 02:23:32.413976  \n",
       "4  2017-01-24 22:52:51.879640  "
      ]
     },
     "execution_count": 17,
     "metadata": {},
     "output_type": "execute_result"
    }
   ],
   "source": [
    "df.to_csv(path_or_buf='../data/interim/tilda_separated_filter.csv', header=True, index=False, sep=\"~\")\n",
    "print(df.shape)\n",
    "\n",
    "pd.read_csv(filepath_or_buffer='../data/interim/tilda_separated_filter.csv', sep='~').head()"
   ]
  }
 ],
 "metadata": {
  "kernelspec": {
   "display_name": "Python 3",
   "language": "python",
   "name": "python3"
  },
  "language_info": {
   "codemirror_mode": {
    "name": "ipython",
    "version": 3
   },
   "file_extension": ".py",
   "mimetype": "text/x-python",
   "name": "python",
   "nbconvert_exporter": "python",
   "pygments_lexer": "ipython3",
   "version": "3.6.5"
  },
  "toc": {
   "base_numbering": 1,
   "nav_menu": {},
   "number_sections": true,
   "sideBar": true,
   "skip_h1_title": true,
   "title_cell": "Table of Contents",
   "title_sidebar": "Contents",
   "toc_cell": false,
   "toc_position": {
    "height": "calc(100% - 180px)",
    "left": "10px",
    "top": "150px",
    "width": "225px"
   },
   "toc_section_display": true,
   "toc_window_display": true
  },
  "varInspector": {
   "cols": {
    "lenName": 16,
    "lenType": 16,
    "lenVar": 40
   },
   "kernels_config": {
    "python": {
     "delete_cmd_postfix": "",
     "delete_cmd_prefix": "del ",
     "library": "var_list.py",
     "varRefreshCmd": "print(var_dic_list())"
    },
    "r": {
     "delete_cmd_postfix": ") ",
     "delete_cmd_prefix": "rm(",
     "library": "var_list.r",
     "varRefreshCmd": "cat(var_dic_list()) "
    }
   },
   "types_to_exclude": [
    "module",
    "function",
    "builtin_function_or_method",
    "instance",
    "_Feature"
   ],
   "window_display": false
  }
 },
 "nbformat": 4,
 "nbformat_minor": 2
}
